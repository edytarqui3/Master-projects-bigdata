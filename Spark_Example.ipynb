{
 "cells": [
  {
   "cell_type": "markdown",
   "metadata": {
    "deletable": false,
    "editable": false,
    "nbgrader": {
     "cell_type": "markdown",
     "checksum": "7f949b17b8f2814baa87c674deefe4d3",
     "grade": false,
     "grade_id": "cell-f8987996be9f1238",
     "locked": true,
     "schema_version": 3,
     "solution": false,
     "task": false
    }
   },
   "source": [
    "# La organización Kiva de préstamos entre particulares\n",
    "\n",
    "### Disponible en Kaggle en:\n",
    "https://www.kaggle.com/kiva/data-science-for-good-kiva-crowdfunding/version/5\n",
    "\n",
    "El conjunto de datos elegido recoge estadísticas de Kiva entre 2014 y 2017. Kiva abre un nuevo mundo de oportunidades para los menos favorecidos y nos permite a cualquiera de nosotros convertirnos en superhéroes. Se trata de una organización sin ánimo de lucro que ofrece pequeños préstamos para ayudar a las comunidades desatendidas que no tienen acceso a los servicios bancarios normales. Proporciona una plataforma y une a personas que estén dispuestas a prestar, un mínimo de 25 dólares, y prestatarios que expongan sus necesidades, la finalidad del dinero y las condiciones de devolución,  porque no es una donación, es un préstamo.\n",
    "\n",
    "Al crear este servicio, Kiva habilita una solución que desbloquea capital para todos y mantiene un interés financiero muy bajo para los prestatarios. Por otro lado, permite que cualquiera sea parte de la solución y brinda a las personas un amplio abanico de opciones para elegir quién, dónde, cuánto y para qué sector desea ayudar."
   ]
  },
  {
   "cell_type": "markdown",
   "metadata": {
    "deletable": false,
    "editable": false,
    "nbgrader": {
     "cell_type": "markdown",
     "checksum": "9a6b4dc108ddf890c659e33701965428",
     "grade": false,
     "grade_id": "cell-f74d7bfd01811789",
     "locked": true,
     "schema_version": 3,
     "solution": false,
     "task": false
    }
   },
   "source": [
    "### Variables y significado"
   ]
  },
  {
   "cell_type": "markdown",
   "metadata": {
    "deletable": false,
    "editable": false,
    "nbgrader": {
     "cell_type": "markdown",
     "checksum": "ea569f4edabc5d7306f8ee2b35adc403",
     "grade": false,
     "grade_id": "cell-9cfb34982bd4eb04",
     "locked": true,
     "schema_version": 3,
     "solution": false,
     "task": false
    }
   },
   "source": [
    "Las variables utilizadas para describir cada préstamo son:\n",
    "\n",
    "\n",
    "* id: ID único para préstamo\n",
    "* funding_amount: la cantidad desembolsada por Kiva al agente de campo (USD)\n",
    "* loan_amount: la cantidad desembolsada por el agente de campo al prestatario (USD)\n",
    "* country_code: código ISO del país en el que se desembolsó el préstamo\n",
    "* activity: Categoría más granular\n",
    "* sector: Categoría de alto nivel\n",
    "* use: Uso exacto del monto del préstamo\n",
    "* country: Nombre completo del país en el que se desembolsó el préstamo\n",
    "* region: Nombre completo de la región dentro del país\n",
    "* currency: La moneda en que se desembolsó el préstamo\n",
    "* partner_id: ID de la organización asociada\n",
    "* posted_time: Hora a la que el agente de campo (intermediario) publica el préstamo en Kiva\n",
    "* disbursed_time: Hora en que el agente de campo (intermediario) entrega el préstamo al beneficiario\n",
    "* funded_time: El momento en que el préstamo publicado en Kiva es financiado por los prestamistas por completo\n",
    "* term_in_months: La duración por la cual el préstamo se desembolsó en meses\n",
    "* lender_count: El número total de prestamistas que contribuyeron a este préstamo.\n",
    "* tags: Etiquetas para describir el caso específico\n",
    "* borrower_genders: letras M, F separadas por comas, donde cada instancia representa un solo hombre / mujer en el grupo\n",
    "* repayment_interval: Estado de pago\n",
    "* date: fecha en la base de datos de esta operación."
   ]
  },
  {
   "cell_type": "markdown",
   "metadata": {},
   "source": [
    "**Nombre completo del alumno:**  "
   ]
  },
  {
   "cell_type": "markdown",
   "metadata": {
    "deletable": false,
    "editable": false,
    "nbgrader": {
     "cell_type": "markdown",
     "checksum": "76dc5b331cac3113e9e77522358617bf",
     "grade": false,
     "grade_id": "cell-b4f9c37a2b92d2e6",
     "locked": true,
     "schema_version": 3,
     "solution": false,
     "task": false
    }
   },
   "source": [
    "**INSTRUCCIONES**: en cada celda debes responder a la pregunta formulada, asegurándote de que el resultado queda guardado en la(s) variable(s) que por defecto vienen inicializadas a `None`. No se necesita usar variables intermedias, pero puedes hacerlo siempre que el resultado final del cálculo quede guardado exactamente en la variable que venía inicializada a None (debes reemplazar None por la secuencia de transformaciones necesarias, pero nunca cambiar el nombre de esa variable). **No olvides borrar la línea *raise NotImplementedError()* de cada celda cuando hayas completado la solución de esa celda y quieras probarla**.\n",
    "\n",
    "Después de cada celda evaluable verás una celda con código. Ejecútala (no modifiques su código) y te dirá si tu solución es correcta o no. En caso de ser correcta, se ejecutará correctamente y no mostrará nada, pero si no lo es mostrará un error. Además de esas pruebas, se realizarán algunas más (ocultas) a la hora de puntuar el ejercicio, pero evaluar dicha celda es un indicador bastante fiable acerca de si realmente has implementado la solución correcta o no. Asegúrate de que, al menos, todas las celdas indican que el código es correcto antes de enviar el notebook terminado."
   ]
  },
  {
   "cell_type": "markdown",
   "metadata": {
    "deletable": false,
    "editable": false,
    "nbgrader": {
     "cell_type": "markdown",
     "checksum": "9d51114ba5e01cc1f49401e7ec3fec2e",
     "grade": false,
     "grade_id": "cell-69ec0993eeaff3ac",
     "locked": true,
     "schema_version": 3,
     "solution": false,
     "task": false
    }
   },
   "source": [
    "### Sobre el dataset kiva_loans.csv se pide:"
   ]
  },
  {
   "cell_type": "markdown",
   "metadata": {},
   "source": [
    "**(1 punto)** Ejercicio 1\n",
    "\n",
    "* Leerlo **sin intentar** que Spark infiera el tipo de dato de cada columna\n",
    "* Puesto que existen columnas que contienen una coma enmedio del valor, en esos casos los valores vienen entre comillas dobles. Spark ya contempla esta posibilidad y puede leerlas adecuadamente **si al leer le indicamos las siguientes opciones adicionales** además de las que ya sueles usar: `.option(\"quote\", \"\\\"\").option(\"escape\", \"\\\"\")`.\n",
    "* Asegúrate de que las **filas que no tienen el formato correcto sean descartadas**, indicando también la opción `mode` con el valor `DROPMALFORMED` como vimos en clase.\n",
    "* Crear un nuevo DF `kivaRawNoNullDF` en el que se hayan eliminado todas las filas que tengan algún valor nulo en cualquier columna **excepto en la columna tags**, que no será relevante para el análisis y por tanto podemos ignorar sus valores nulos y mantener dichas filas."
   ]
  },
  {
   "cell_type": "code",
   "execution_count": 192,
   "metadata": {
    "deletable": false,
    "nbgrader": {
     "cell_type": "code",
     "checksum": "5dd7b5af2400b59ee2155e84fbd2bc1b",
     "grade": false,
     "grade_id": "read_csv",
     "locked": false,
     "schema_version": 3,
     "solution": true,
     "task": false
    }
   },
   "outputs": [],
   "source": [
    "# LÍNEA EVALUABLE, NO RENOMBRAR LAS VARIABLES\n",
    "kivaRawDF = spark.read.option(\"header\", \"true\").option(\"quote\", \"\\\"\").option(\"escape\", \"\\\"\").option(\"mode\", \"DROPMALFORMED\")\\\n",
    "                 .csv(\"gs://bucket-master-ds/notebooks/jupyter/data/kiva_loans.csv\")\n",
    "# Descomentar estas líneas para calcular la lista de columnas que sí deben tenerse en cuenta para quitar nulos. Después\n",
    "# tendrás que utilizar dicha lista en la operación que elimina los nulos\n",
    "columnasExceptoTags = kivaRawDF.columns\n",
    "columnasExceptoTags.remove(\"tags\")\n",
    "from pyspark.sql.functions import col\n",
    "kivaRawNoNullDF = kivaRawDF.dropna(subset=columnasExceptoTags)"
   ]
  },
  {
   "cell_type": "code",
   "execution_count": 193,
   "metadata": {},
   "outputs": [
    {
     "name": "stderr",
     "output_type": "stream",
     "text": [
      "                                                                                \r"
     ]
    },
    {
     "data": {
      "text/plain": [
       "574115"
      ]
     },
     "execution_count": 193,
     "metadata": {},
     "output_type": "execute_result"
    }
   ],
   "source": [
    "kivaRawNoNullDF.count()"
   ]
  },
  {
   "cell_type": "code",
   "execution_count": 194,
   "metadata": {
    "deletable": false,
    "editable": false,
    "nbgrader": {
     "cell_type": "code",
     "checksum": "188c34c4f8b30b2afe579969e84c4636",
     "grade": true,
     "grade_id": "read_csv_test",
     "locked": true,
     "points": 1,
     "schema_version": 3,
     "solution": false,
     "task": false
    }
   },
   "outputs": [
    {
     "name": "stderr",
     "output_type": "stream",
     "text": [
      "                                                                                \r"
     ]
    }
   ],
   "source": [
    "from pyspark.sql.types import DoubleType\n",
    "assert(kivaRawNoNullDF.count() == 574115)"
   ]
  },
  {
   "cell_type": "markdown",
   "metadata": {
    "deletable": false,
    "editable": false,
    "nbgrader": {
     "cell_type": "markdown",
     "checksum": "d2298099dcc1ad4426ab91db020be936",
     "grade": false,
     "grade_id": "cell-b90f5b934eda250e",
     "locked": true,
     "schema_version": 3,
     "solution": false,
     "task": false
    }
   },
   "source": [
    "**(1 punto)** Ejercicio 2\n",
    "\n",
    "* Las columnas `posted_time` y `disbursed_time` son en realidad instantes de tiempo que Spark debería procesar como timestamp. Partiendo de `kivaRawNoNullDF`, reemplaza **ambas columnas** por su versión convertida a timestamp, utilizando `withColumn` con el mismo nombre de cada columna, y donde el nuevo valor de la columna viene dado por el siguiente código:\n",
    "\n",
    "        F.from_unixtime(F.unix_timestamp('nombreColumna', 'yyyy-MM-dd HH:mm:ssXXX')).cast(\"timestamp\"))\n",
    "\n",
    "* Además, convierte a `DoubleType` la columna `loan_amount` y a `IntegerType` la columna `term_in_months`.\n",
    "\n",
    "* El DF resultante de todas estas operaciones debe quedar almacenado en la variable `kivaDF`, **cacheado**.\n"
   ]
  },
  {
   "cell_type": "code",
   "execution_count": 195,
   "metadata": {
    "deletable": false,
    "nbgrader": {
     "cell_type": "code",
     "checksum": "ca99506697f9a967d82bac2f35307d4d",
     "grade": false,
     "grade_id": "convert_timestamp",
     "locked": false,
     "schema_version": 3,
     "solution": true,
     "task": false
    }
   },
   "outputs": [
    {
     "name": "stderr",
     "output_type": "stream",
     "text": [
      "23/05/27 09:53:08 WARN org.apache.spark.sql.execution.CacheManager: Asked to cache already cached data.\n"
     ]
    }
   ],
   "source": [
    "from pyspark.sql import functions as F\n",
    "from pyspark.sql.types import IntegerType, DoubleType, TimestampType\n",
    "# LÍNEAS EVALUABLES, NO RENOMBRAR LAS VARIABLES\n",
    "kivaDF = kivaRawNoNullDF.withColumn(\"posted_time\", F.unix_timestamp('posted_time', 'yyyy-MM-dd HH:mm:ssXXX').cast(\"timestamp\"))\\\n",
    "                        .withColumn(\"disbursed_time\", F.unix_timestamp('disbursed_time', 'yyyy-MM-dd HH:mm:ssXXX').cast(\"timestamp\"))\\\n",
    "                        .withColumn(\"loan_amount\", F.col(\"loan_amount\").cast(DoubleType()))\\\n",
    "                        .withColumn(\"term_in_months\", F.col(\"term_in_months\").cast(IntegerType()))\n",
    "kivaDF = kivaDF.cache()\n",
    "# YOUR CODE HERE\n",
    "#raise NotImplementedError"
   ]
  },
  {
   "cell_type": "code",
   "execution_count": 196,
   "metadata": {},
   "outputs": [
    {
     "data": {
      "text/plain": [
       "{'id': 'string',\n",
       " 'funded_amount': 'string',\n",
       " 'loan_amount': 'double',\n",
       " 'activity': 'string',\n",
       " 'sector': 'string',\n",
       " 'use': 'string',\n",
       " 'country_code': 'string',\n",
       " 'country': 'string',\n",
       " 'region': 'string',\n",
       " 'currency': 'string',\n",
       " 'partner_id': 'string',\n",
       " 'posted_time': 'timestamp',\n",
       " 'disbursed_time': 'timestamp',\n",
       " 'funded_time': 'string',\n",
       " 'term_in_months': 'int',\n",
       " 'lender_count': 'string',\n",
       " 'tags': 'string',\n",
       " 'borrower_genders': 'string',\n",
       " 'repayment_interval': 'string',\n",
       " 'date': 'string'}"
      ]
     },
     "execution_count": 196,
     "metadata": {},
     "output_type": "execute_result"
    }
   ],
   "source": [
    "typesDict = dict(kivaDF.dtypes)\n",
    "typesDict"
   ]
  },
  {
   "cell_type": "code",
   "execution_count": 197,
   "metadata": {},
   "outputs": [
    {
     "name": "stdout",
     "output_type": "stream",
     "text": [
      "True\n",
      "True\n"
     ]
    }
   ],
   "source": [
    "cnt_cond = lambda cond: F.sum(F.when(cond, 1).otherwise(0))\n",
    "nullsRow = kivaDF.select(cnt_cond(F.col(\"posted_time\").isNull()).alias(\"posted_nulls\"),\n",
    "              cnt_cond(F.col(\"disbursed_time\").isNull()).alias(\"disbursed_nulls\")).head()\n",
    "print(nullsRow.posted_nulls == 0)\n",
    "print(nullsRow.disbursed_nulls == 0)"
   ]
  },
  {
   "cell_type": "code",
   "execution_count": 198,
   "metadata": {
    "deletable": false,
    "editable": false,
    "nbgrader": {
     "cell_type": "code",
     "checksum": "8bf617944fb4248cb79632c80062746c",
     "grade": true,
     "grade_id": "convert_timestamp_tests",
     "locked": true,
     "points": 1,
     "schema_version": 3,
     "solution": false,
     "task": false
    }
   },
   "outputs": [],
   "source": [
    "typesDict = dict(kivaDF.dtypes)\n",
    "assert(typesDict[\"posted_time\"] == \"timestamp\") \n",
    "assert(typesDict[\"disbursed_time\"] == \"timestamp\") \n",
    "assert(typesDict[\"loan_amount\"] == \"double\") \n",
    "assert(typesDict[\"term_in_months\"] == \"int\")\n",
    "cnt_cond = lambda cond: F.sum(F.when(cond, 1).otherwise(0))\n",
    "nullsRow = kivaDF.select(cnt_cond(F.col(\"posted_time\").isNull()).alias(\"posted_nulls\"),\n",
    "              cnt_cond(F.col(\"disbursed_time\").isNull()).alias(\"disbursed_nulls\")).head()\n",
    "assert(nullsRow.posted_nulls == 0)\n",
    "assert(nullsRow.disbursed_nulls == 0)"
   ]
  },
  {
   "cell_type": "markdown",
   "metadata": {
    "deletable": false,
    "editable": false,
    "nbgrader": {
     "cell_type": "markdown",
     "checksum": "1e93f385f93838abff6492567725cfba",
     "grade": false,
     "grade_id": "cell-fc88821f19453a51",
     "locked": true,
     "schema_version": 3,
     "solution": false,
     "task": false
    }
   },
   "source": [
    "**(2 puntos)** Ejercicio 3\n",
    "\n",
    "Partiendo de `kivaDF`:\n",
    "\n",
    "* Primero, añade una nueva columna `dias_desembolso` que contenga el número de días que han pasado entre la fecha en que los prestamistas aceptaron financiar un proyecto, y la fecha en que el agente de campo entregó los fondos al beneficiario. Para ello, utiliza `withColumn` en combinación con la función `F.datediff(\"colFuturo\", \"colPasado\")`\n",
    "* De manera análoga, añade otra nueva columna `dias_aceptacion` que contenga el número de días entre el anuncio de la necesidad de préstamo y la aceptación de financiarlo por parte de algún prestamista.\n",
    "* Reemplazar la columna `sector` por otra en la que se hayan traducido las categorías \"Education\" por \"Educacion\" (sin tilde para evitar posibles problemas) y \"Agriculture\" por \"Agricultura\", dejando como están el resto de categorías. **La sustitución no debe tener más que tres casos**: uno para cada categoría que vamos a reemplazar, y un tercero para el resto de categorías, que deben quedarse como estaban.\n",
    "* El resultado debe quedar guardado en la variable `kivaTiemposDF`."
   ]
  },
  {
   "cell_type": "code",
   "execution_count": 199,
   "metadata": {
    "deletable": false,
    "nbgrader": {
     "cell_type": "code",
     "checksum": "5ca4098e1a7f6a6f74ba37e09dc7fafe",
     "grade": false,
     "grade_id": "aniade_tiempos",
     "locked": false,
     "schema_version": 3,
     "solution": true,
     "task": false
    }
   },
   "outputs": [
    {
     "data": {
      "text/plain": [
       "['id',\n",
       " 'funded_amount',\n",
       " 'loan_amount',\n",
       " 'activity',\n",
       " 'sector',\n",
       " 'use',\n",
       " 'country_code',\n",
       " 'country',\n",
       " 'region',\n",
       " 'currency',\n",
       " 'partner_id',\n",
       " 'posted_time',\n",
       " 'disbursed_time',\n",
       " 'funded_time',\n",
       " 'term_in_months',\n",
       " 'lender_count',\n",
       " 'tags',\n",
       " 'borrower_genders',\n",
       " 'repayment_interval',\n",
       " 'date',\n",
       " 'dias_desembolso',\n",
       " 'dias_aceptacion']"
      ]
     },
     "execution_count": 199,
     "metadata": {},
     "output_type": "execute_result"
    }
   ],
   "source": [
    "# LÍNEA EVALUABLE, NO RENOMBRAR VARIABLES\n",
    "from pyspark.sql.functions import when\n",
    "kivaTiemposDF = kivaDF\\\n",
    "                        .withColumn(\"funded_time\", F.unix_timestamp('funded_time', 'yyyy-MM-dd HH:mm:ssXXX').cast(\"timestamp\"))\\\n",
    "                        .withColumn(\"dias_desembolso\", F.datediff(\"posted_time\", \"disbursed_time\"))\\\n",
    "                       .withColumn(\"dias_aceptacion\", F.datediff(\"funded_time\", \"posted_time\"))\\\n",
    "                        .withColumn(\"sector\", when(col(\"sector\") == \"Education\", \"Educacion\")\\\n",
    "                                    .when(col(\"sector\") == \"Agriculture\", \"Agricultura\")\\\n",
    "                                    .otherwise(col(\"sector\")))\n",
    "                                  \n",
    "kivaTiemposDF.columns\n",
    "#raise NotImplementedError"
   ]
  },
  {
   "cell_type": "code",
   "execution_count": 200,
   "metadata": {},
   "outputs": [
    {
     "name": "stdout",
     "output_type": "stream",
     "text": [
      "True\n",
      "True\n",
      "True\n"
     ]
    }
   ],
   "source": [
    "print(kivaTiemposDF.where(\"sector == 'Agricultura'\").count() == 157003)\n",
    "print(kivaTiemposDF.where(\"sector == 'Educacion'\").count() == 28417)\n",
    "print(kivaTiemposDF.groupBy(\"sector\").count().join(kivaDF.groupBy(\"sector\").count(), [\"sector\", \"count\"]).count() == 13)"
   ]
  },
  {
   "cell_type": "code",
   "execution_count": 201,
   "metadata": {
    "deletable": false,
    "editable": false,
    "nbgrader": {
     "cell_type": "code",
     "checksum": "dcadcc48648f84d47868016a5a1b2176",
     "grade": true,
     "grade_id": "aniade_tiempos_test",
     "locked": true,
     "points": 2,
     "schema_version": 3,
     "solution": false,
     "task": false
    }
   },
   "outputs": [],
   "source": [
    "assert(kivaTiemposDF.where(\"sector == 'Agricultura'\").count() == 157003)\n",
    "assert(kivaTiemposDF.where(\"sector == 'Educacion'\").count() == 28417)\n",
    "# Comprobamos que las 13 restantes se mantienen sin cambios\n",
    "assert(kivaTiemposDF.groupBy(\"sector\").count().join(kivaDF.groupBy(\"sector\").count(), [\"sector\", \"count\"]).count() == 13)"
   ]
  },
  {
   "cell_type": "markdown",
   "metadata": {
    "deletable": false,
    "editable": false,
    "nbgrader": {
     "cell_type": "markdown",
     "checksum": "79185ceef173a0104b5f923e4bde05a0",
     "grade": false,
     "grade_id": "cell-a71a6b17b1e0d613",
     "locked": true,
     "schema_version": 3,
     "solution": false,
     "task": false
    }
   },
   "source": [
    "**(3 puntos)** Ejercicio 4\n",
    "\n",
    "Partiendo de `kivaTiemposDF`, crear un nuevo DataFrame llamado `kivaAgrupadoDF` que tenga:\n",
    "\n",
    "* Tantas filas como **países (`country`; no usar el código de país)**, y tantas columnas como **sectores** (cada una llamada como el sector) más una (la columna del país, que debe aparecer en primer lugar). En cada celda deberá ir el número **medio (redondeado a 2 cifras decimales)** de días transcurridos en ese país y sector *entre la fecha en que se anuncia la necesidad de préstamo y la fecha en la que un prestamista acepta financiarlo*. Esta columna ha sido calculada en la celda precedente.\n",
    "* Después de esto, añadir una columna adicional `transcurrido_global` con el número **medio (redondeado a 2 cifras decimales) de días transcurridos en cada país** entre ambas fechas *sin tener en cuenta el sector*. Cada fila tendrá la media de las 15 columnas del apartado anterior.\n",
    "* Por último, ordenar el DF resultante **descendentemente** en base al tiempo medio global, `transcurrido_global`. El DF resultado de la ordenación debe ser almacenado en la variable `kivaAgrupadoDF`. \n",
    "\n",
    "PISTA: utiliza el método `pivot` con el sector para el primer apartado, envolviendo a la función de agregación con la función `F.round`, es decir, `F.round(F.funcionAgregacion(....), 2)`, y `withColumn` con una operación aritmética entre columnas en el segundo. **No debe utilizarse la función `when`** ya que Spark es capaz de hacer directamente aritmética entre objetos columna. La operación aritmética también debe estar envuelta por round: `F.round(op. aritmética entre objetos columna, 2)`."
   ]
  },
  {
   "cell_type": "code",
   "execution_count": 202,
   "metadata": {
    "deletable": false,
    "nbgrader": {
     "cell_type": "code",
     "checksum": "396a2289c6c4fa8c5de5540783d27942",
     "grade": false,
     "grade_id": "tiempos_medios",
     "locked": false,
     "schema_version": 3,
     "solution": true,
     "task": false
    }
   },
   "outputs": [
    {
     "name": "stderr",
     "output_type": "stream",
     "text": [
      "\r",
      "[Stage 713:>                                                        (0 + 2) / 2]\r",
      "\r",
      "[Stage 713:============================>                            (1 + 1) / 2]\r"
     ]
    },
    {
     "name": "stdout",
     "output_type": "stream",
     "text": [
      "+------------+-----------+-----+--------+------------+---------+-------------+-----+------+-------+-------------+------------+------+--------+--------------+---------+\n",
      "|     country|Agricultura| Arts|Clothing|Construction|Educacion|Entertainment| Food|Health|Housing|Manufacturing|Personal Use|Retail|Services|Transportation|Wholesale|\n",
      "+------------+-----------+-----+--------+------------+---------+-------------+-----+------+-------+-------------+------------+------+--------+--------------+---------+\n",
      "|    Paraguay|       13.1| 6.96|    8.91|       14.25|     9.29|          3.0| 9.18|  6.49|  21.33|          9.4|        19.0| 12.76|   10.42|         29.17|     30.0|\n",
      "|       Yemen|      10.14|  1.5|   12.15|       17.13|      8.0|         null|12.03|  4.79|  19.74|         4.23|       14.73| 14.23|    9.91|         14.32|     16.0|\n",
      "|     Senegal|      24.47| null|    null|        null|     null|         null| null|  19.0|   null|         null|        null|  12.0|    null|          null|     null|\n",
      "| Philippines|       8.77| 5.05|    9.85|        7.76|     5.96|         6.63|10.01|  7.63|   8.73|         5.32|        7.03|  10.6|    8.02|          9.12|     7.68|\n",
      "|      Turkey|       null| 10.0|    null|        null|     null|         null|  6.0|  null|   null|          2.0|        null|  4.83|     9.0|          null|     null|\n",
      "|      Malawi|        3.4|  6.0|    6.32|         8.0|     16.0|         null|  6.7|  null|   5.67|          5.0|        null|  6.64|   12.82|          null|      1.0|\n",
      "|    Cambodia|      15.84|  5.0|   12.94|        9.84|     7.34|          9.5|14.79|  3.89|  10.35|         7.78|         7.8| 14.52|   11.33|         15.19|      7.0|\n",
      "|      Jordan|      13.05| 8.09|   19.26|       22.86|    11.68|        13.25|19.23|   7.0|   null|         8.41|         3.0| 21.14|   17.74|           9.0|     16.5|\n",
      "|      Rwanda|       18.0| null|    null|        18.0|     7.23|         null|35.25|  null|   null|          7.5|       13.24|  15.0|   12.97|          10.0|      3.0|\n",
      "|        Togo|       6.35| 6.16|    9.02|        10.8|     null|         null|  9.1|  7.61|   null|         7.93|        null|  9.68|    9.97|         12.33|      3.0|\n",
      "|     Ecuador|      13.48| 7.15|   12.08|       12.36|     6.45|         4.88|11.56| 10.85|  16.33|         7.75|       26.86| 11.74|   11.16|         15.07|     7.57|\n",
      "|     Albania|      17.28|10.25|   22.62|       17.92|    10.27|          9.5|21.87| 11.44|  21.97|        13.25|        20.5| 23.65|   21.13|         22.63|     16.0|\n",
      "|  Madagascar|        8.2| 8.42|   10.44|       11.22|     null|          7.0| 9.84|   7.0|   null|         8.57|        null| 10.42|     9.3|          7.43|      9.0|\n",
      "|       Ghana|      15.45| 6.16|   13.07|       13.04|     9.35|          9.0|12.01|  8.52|   7.15|         10.0|        5.34| 15.05|   10.52|          12.0|    13.33|\n",
      "|   Nicaragua|      18.03|10.21|   18.85|        23.9|    10.99|         12.0| 17.1| 10.74|   25.6|        12.54|       18.57|  20.9|   16.87|         20.87|     9.13|\n",
      "|        Peru|      13.77| 7.87|   11.99|       13.53|     11.0|         7.97|10.88|  8.37|  24.33|         8.35|        16.6| 11.16|   11.29|         15.97|    13.57|\n",
      "|Sierra Leone|        8.0| 4.63|   17.47|       15.78|     9.02|         14.0|14.49|  7.24|  18.79|         6.81|       28.06| 15.56|    16.2|         17.11|     18.0|\n",
      "|       Benin|       25.0|  3.0|    null|        null|     null|         null| null|  null|   null|         null|        null|  null|    null|          null|     null|\n",
      "|       China|       5.88|10.43|     5.5|         4.0|      2.5|          3.0| 7.79|   5.0|   5.17|         8.33|        10.0|  8.17|    7.33|           7.5|     null|\n",
      "|       India|       9.56| 8.61|   12.43|        9.27|     8.01|          6.8|12.42|  6.77|  12.55|         8.42|        7.94| 13.88|    9.89|          8.55|     7.25|\n",
      "+------------+-----------+-----+--------+------------+---------+-------------+-----+------+-------+-------------+------------+------+--------+--------------+---------+\n",
      "only showing top 20 rows\n",
      "\n"
     ]
    },
    {
     "name": "stderr",
     "output_type": "stream",
     "text": [
      "\r",
      "                                                                                \r"
     ]
    }
   ],
   "source": [
    "kivaAgrupadoDF = kivaTiemposDF\\\n",
    "                        .groupBy(\"country\")\\\n",
    "                        .pivot(\"sector\")\\\n",
    "                        .agg(F.round(F.mean('dias_aceptacion'), 2).alias('mean_days'))\n",
    "kivaAgrupadoDF.show()"
   ]
  },
  {
   "cell_type": "code",
   "execution_count": 203,
   "metadata": {},
   "outputs": [
    {
     "data": {
      "text/plain": [
       "['Agricultura',\n",
       " 'Arts',\n",
       " 'Clothing',\n",
       " 'Construction',\n",
       " 'Educacion',\n",
       " 'Entertainment',\n",
       " 'Food',\n",
       " 'Health',\n",
       " 'Housing',\n",
       " 'Manufacturing',\n",
       " 'Personal Use',\n",
       " 'Retail',\n",
       " 'Services',\n",
       " 'Transportation',\n",
       " 'Wholesale']"
      ]
     },
     "execution_count": 203,
     "metadata": {},
     "output_type": "execute_result"
    }
   ],
   "source": [
    "column_list = kivaAgrupadoDF.columns\n",
    "\n",
    "column_list = column_list[1:]\n",
    "\n",
    "column_list"
   ]
  },
  {
   "cell_type": "code",
   "execution_count": 204,
   "metadata": {},
   "outputs": [],
   "source": [
    "columns = [F.col(col) for col in column_list]\n",
    "\n",
    "sum_column = sum(columns)/(len(columns))"
   ]
  },
  {
   "cell_type": "code",
   "execution_count": 205,
   "metadata": {},
   "outputs": [],
   "source": [
    "kivaAgrupadoDF = kivaAgrupadoDF.withColumn('transcurrido_global', sum_column)\\\n",
    "                                .withColumn('transcurrido_global', F.round('transcurrido_global', 2))\\\n",
    "                                .sort(F.col(\"transcurrido_global\"),ascending = False)"
   ]
  },
  {
   "cell_type": "code",
   "execution_count": 206,
   "metadata": {},
   "outputs": [
    {
     "name": "stderr",
     "output_type": "stream",
     "text": [
      "                                                                                \r"
     ]
    },
    {
     "data": {
      "text/plain": [
       "Row(country='United States', Agricultura=12.17, Arts=16.8, Clothing=19.26, Construction=14.77, Educacion=15.33, Entertainment=23.94, Food=17.81, Health=18.32, Housing=27.64, Manufacturing=20.93, Personal Use=36.53, Retail=23.21, Services=21.73, Transportation=19.71, Wholesale=27.5, transcurrido_global=21.04)"
      ]
     },
     "execution_count": 206,
     "metadata": {},
     "output_type": "execute_result"
    }
   ],
   "source": [
    "kivaAgrupadoDF.head()"
   ]
  },
  {
   "cell_type": "code",
   "execution_count": 207,
   "metadata": {
    "deletable": false,
    "editable": false,
    "nbgrader": {
     "cell_type": "code",
     "checksum": "93ebd38f5b390fbfbd89be06a50c6282",
     "grade": true,
     "grade_id": "tiempos_medios_test",
     "locked": true,
     "points": 3,
     "schema_version": 3,
     "solution": false,
     "task": false
    }
   },
   "outputs": [
    {
     "name": "stderr",
     "output_type": "stream",
     "text": [
      "                                                                                \r"
     ]
    }
   ],
   "source": [
    "r1 = kivaAgrupadoDF.head()\n",
    "assert(r1.country == \"United States\")\n",
    "assert((r1.Agricultura - 12.0 < 0.01) | (r1.Agricultura - 12.17 < 0.01))\n",
    "assert((r1.Educacion - 15.21 < 0.01) | (r1.Educacion - 15.33 < 0.01))\n",
    "assert(r1.Wholesale - 27.5 < 0.01)\n",
    "assert((r1.transcurrido_global - 20.94 < 0.01) | (r1.transcurrido_global - 21.04 < 0.01))"
   ]
  },
  {
   "cell_type": "markdown",
   "metadata": {
    "deletable": false,
    "editable": false,
    "nbgrader": {
     "cell_type": "markdown",
     "checksum": "31924076e8ce9e4467959d6eef2edcc4",
     "grade": false,
     "grade_id": "cell-c5ec05706eccd480",
     "locked": true,
     "schema_version": 3,
     "solution": false,
     "task": false
    }
   },
   "source": [
    "**(3 puntos)** Ejercicio 5\n",
    "\n",
    "Partiendo de nuevo de `kivaTiemposDF`, añadir las siguientes columnas:\n",
    "\n",
    "* Primero, tres columnas adicionales llamadas `transc_medio`, `transc_min`, `transc_max` que contengan, respectivamente, **el número de días medio, mínimo y máximo transcurrido para proyectos de ese mismo país y ese mismo sector** entre la fecha en que se postea la necesidad de préstamo y la fecha en la que alguien acepta financiarlo (es decir, la columna `dias_aceptacion` calculada antes y utilizada también en la celda anterior). Es decir, queremos una columna extra para que podamos tener, junto a cada préstamo, información agregada de los préstamos similares, entendidos como aquellos del mismo país y del mismo sector. **No se debe utilizar JOIN sino solo funciones de ventana**.\n",
    "* Finalmente, crear otra columna adicional `diff_dias` que contenga la **diferencia en días entre los días que transcurrieron en este proyecto y la media de días de los proyectos similares** (calculada en el apartado anterior). Debería ser lo primero menos lo segundo, de forma que un número positivo indica que este préstamo tardó más días en ser aceptado que la media de días de este país y sector, y un número negativo indica lo contrario. El resultado debe obtenerse aplicando operaciones aritméticas con columnas existentes, **sin utilizar `when`**.\n",
    "* El DF resultante con las 4 columnas nuevas que hemos añadido debe quedar almacenado en la variable `kivaExtraInfoDF`."
   ]
  },
  {
   "cell_type": "code",
   "execution_count": 208,
   "metadata": {
    "deletable": false,
    "nbgrader": {
     "cell_type": "code",
     "checksum": "7781e45de12eaece0b66e4eb898e2b0b",
     "grade": false,
     "grade_id": "ventana",
     "locked": false,
     "schema_version": 3,
     "solution": true,
     "task": false
    }
   },
   "outputs": [
    {
     "name": "stderr",
     "output_type": "stream",
     "text": [
      "[Stage 731:============================>                            (1 + 1) / 2]\r"
     ]
    },
    {
     "name": "stdout",
     "output_type": "stream",
     "text": [
      "+-------+-------------+-----------+-------------------+------+--------------------+------------+-----------+-------------+--------+----------+-------------------+-------------------+-------------------+--------------+------------+--------------------+----------------+------------------+----------+---------------+---------------+------------------+----------+----------+-------------------+\n",
      "|     id|funded_amount|loan_amount|           activity|sector|                 use|country_code|    country|       region|currency|partner_id|        posted_time|     disbursed_time|        funded_time|term_in_months|lender_count|                tags|borrower_genders|repayment_interval|      date|dias_desembolso|dias_aceptacion|      transc_medio|transc_min|transc_max|          diff_dias|\n",
      "+-------+-------------+-----------+-------------------+------+--------------------+------------+-----------+-------------+--------+----------+-------------------+-------------------+-------------------+--------------+------------+--------------------+----------------+------------------+----------+---------------+---------------+------------------+----------+----------+-------------------+\n",
      "|1023542|       8000.0|     8000.0|           Textiles|  Arts|To purchase raw m...|          AF|Afghanistan|Kandahar City|     USD|     412.0|2016-02-16 15:15:51|2016-04-05 07:00:00|2016-02-17 05:25:42|             6|         308|#Fabrics, user_fa...|          female|            bullet|2016-02-16|            -49|              1|               0.5|         0|         1|                0.5|\n",
      "| 805613|       6000.0|     6000.0|           Textiles|  Arts|To buy 9 sewing m...|          AF|Afghanistan|Kandahar City|     USD|     412.0|2014-11-26 00:51:29|2015-01-07 08:00:00|2014-11-26 20:07:08|             8|         204|user_favorite, us...|          female|            bullet|2014-11-26|            -42|              0|               0.5|         0|         1|               -0.5|\n",
      "|1006917|        800.0|      800.0|        Food Market|  Food|to stock up his f...|          AL|    Albania|        Korce|     ALL|     239.0|2016-01-12 08:44:00|2016-01-07 08:00:00|2016-01-18 20:34:11|            14|          26|user_favorite, #E...|            male|           monthly|2016-01-12|              5|              6|21.865384615384617|         2|        44|-15.865384615384617|\n",
      "|1026836|       2025.0|     2025.0|               Cafe|  Food|to make some reno...|          AL|    Albania|        Korce|     ALL|     239.0|2016-02-22 13:35:08|2016-02-19 08:00:00|2016-03-26 21:13:40|            26|          73|#Biz Durable Asse...|            male|           monthly|2016-02-22|              3|             33|21.865384615384617|         2|        44| 11.134615384615383|\n",
      "|1044504|        825.0|      825.0|         Restaurant|  Food|to renovate a run...|          AL|    Albania|          Lac|     ALL|     239.0|2016-03-26 22:42:21|2016-03-18 07:00:00|2016-04-22 07:24:23|            26|          33|#Elderly, user_fa...|            male|           monthly|2016-03-26|              8|             27|21.865384615384617|         2|        44|  5.134615384615383|\n",
      "|1053698|        625.0|      625.0|            Fishing|  Food|to repair her exi...|          AL|    Albania|        Lezhe|     ALL|     239.0|2016-04-13 11:48:43|2016-04-12 07:00:00|2016-04-18 14:10:23|            17|          22|                null|          female|           monthly|2016-04-13|              1|              5|21.865384615384617|         2|        44|-16.865384615384617|\n",
      "|1150877|        425.0|      425.0|          Beverages|  Food|to buy inventory ...|          AL|    Albania|      Elbasan|     ALL|     239.0|2016-09-15 08:23:55|2016-08-18 07:00:00|2016-09-25 04:51:55|            12|          13|user_favorite, us...|          female|           monthly|2016-09-15|             28|             10|21.865384615384617|         2|        44|-11.865384615384617|\n",
      "|1172616|       2025.0|     2025.0|         Food Stall|  Food|to make basic res...|          AL|    Albania|          Lac|     ALL|     239.0|2016-10-22 04:55:47|2016-09-28 07:00:00|2016-11-17 21:02:26|            32|          65|#Repeat Borrower,...|          female|           monthly|2016-10-22|             24|             26|21.865384615384617|         2|        44|  4.134615384615383|\n",
      "|1184000|       2400.0|     2400.0|         Restaurant|  Food|to invest in her ...|          AL|    Albania|      Elbasan|     ALL|     239.0|2016-11-12 14:11:16|2016-11-07 08:00:00|2016-11-25 03:07:13|            38|          71|#Single Parent, #...|          female|           monthly|2016-11-12|              5|             13|21.865384615384617|         2|        44| -8.865384615384617|\n",
      "|1223052|       1025.0|     1025.0|      Grocery Store|  Food|to stock up his f...|          AL|    Albania|        Korce|     ALL|     239.0|2017-01-19 11:42:51|2016-12-29 08:00:00|2017-02-02 19:33:04|            18|          34|#Repeat Borrower,...|            male|           monthly|2017-01-19|             21|             14|21.865384615384617|         2|        44| -7.865384615384617|\n",
      "|1279691|       1575.0|     1575.0|               Food|  Food|to buy a van to s...|          AL|    Albania|        Korce|     ALL|     239.0|2017-04-16 17:48:18|2017-03-17 07:00:00|2017-05-21 16:55:03|            14|          49|#Biz Durable Asse...|            male|           monthly|2017-04-16|             30|             35|21.865384615384617|         2|        44| 13.134615384615383|\n",
      "|1297635|       2600.0|     2600.0|Fruits & Vegetables|  Food|to buy potato see...|          AL|    Albania|        Korce|     ALL|     239.0|2017-05-12 20:34:19|2017-04-12 07:00:00|2017-06-03 01:35:47|            32|          94|#Repeat Borrower,...|          female|           monthly|2017-05-12|             30|             22|21.865384615384617|         2|        44|0.13461538461538325|\n",
      "| 662240|       1475.0|     1475.0|               Cafe|  Food|to buy equipment ...|          AL|    Albania|      Elbasan|     ALL|     239.0|2014-01-27 10:26:03|2014-01-24 08:00:00|2014-01-29 17:01:30|            26|          55|volunteer_like, #...|          female|           monthly|2014-01-27|              3|              2|21.865384615384617|         2|        44|-19.865384615384617|\n",
      "| 666820|       2900.0|     2900.0|             Bakery|  Food|to build an addit...|          AL|    Albania|        Korce|     ALL|     239.0|2014-02-07 11:32:56|2014-02-05 08:00:00|2014-02-17 17:57:30|            26|         112|user_favorite, us...|          female|           monthly|2014-02-07|              2|             10|21.865384615384617|         2|        44|-11.865384615384617|\n",
      "| 674498|       1975.0|     1975.0|      Grocery Store|  Food|to add to her gro...|          AL|    Albania|        Korce|     ALL|     239.0|2014-02-21 11:32:34|2014-02-17 08:00:00|2014-02-26 19:21:25|            32|          74|                null|          female|           monthly|2014-02-21|              4|              5|21.865384615384617|         2|        44|-16.865384615384617|\n",
      "| 702586|       1000.0|     1000.0|        Food Market|  Food|to buy kitchen su...|          AL|    Albania|        Lezhe|     ALL|     239.0|2014-04-25 11:17:25|2014-04-24 07:00:00|2014-05-17 22:32:13|            20|          36|volunteer_pick, v...|          female|           monthly|2014-04-25|              1|             22|21.865384615384617|         2|        44|0.13461538461538325|\n",
      "| 706185|       1500.0|     1500.0|      Grocery Store|  Food|to buy shelves an...|          AL|    Albania|        Korce|     ALL|     239.0|2014-05-06 10:41:36|2014-04-30 07:00:00|2014-05-15 23:45:17|            21|          47|#Interesting Phot...|          female|           monthly|2014-05-06|              6|              9|21.865384615384617|         2|        44|-12.865384615384617|\n",
      "| 709239|       1000.0|     1000.0|      Grocery Store|  Food|to buy inventory ...|          AL|    Albania|        Korce|     ALL|     239.0|2014-05-13 08:34:54|2014-05-08 07:00:00|2014-05-19 19:17:41|            26|          36|                null|          female|           monthly|2014-05-13|              5|              6|21.865384615384617|         2|        44|-15.865384615384617|\n",
      "| 715980|       2450.0|     2450.0|      Grocery Store|  Food|to finish the gro...|          AL|    Albania|        Korce|     ALL|     239.0|2014-05-26 09:55:30|2014-05-20 07:00:00|2014-06-28 17:55:15|            20|          92|#Parent, #Biz Dur...|            male|           monthly|2014-05-26|              6|             33|21.865384615384617|         2|        44| 11.134615384615383|\n",
      "| 719122|       1475.0|     1475.0|      Grocery Store|  Food| who was born dea...|          AL|    Albania|        Korce|     ALL|     239.0|2014-06-02 09:38:17|2014-05-29 07:00:00|2014-06-10 14:06:36|            20|          52|user_favorite, #P...|          female|           monthly|2014-06-02|              4|              8|21.865384615384617|         2|        44|-13.865384615384617|\n",
      "+-------+-------------+-----------+-------------------+------+--------------------+------------+-----------+-------------+--------+----------+-------------------+-------------------+-------------------+--------------+------------+--------------------+----------------+------------------+----------+---------------+---------------+------------------+----------+----------+-------------------+\n",
      "only showing top 20 rows\n",
      "\n"
     ]
    },
    {
     "name": "stderr",
     "output_type": "stream",
     "text": [
      "\r",
      "                                                                                \r"
     ]
    }
   ],
   "source": [
    "# LÍNEA EVALUABLE, NO RENOMBRAR VARIABLES\n",
    "from pyspark.sql import Window\n",
    "windowPaisSector = Window().partitionBy(\"country\", \"sector\")\n",
    "kivaExtraInfoDF = kivaTiemposDF\\\n",
    "                                .withColumn(\"transc_medio\", F.mean(\"dias_aceptacion\").over(windowPaisSector))\\\n",
    "                                .withColumn(\"transc_min\", F.min(\"dias_aceptacion\").over(windowPaisSector))\\\n",
    "                                .withColumn(\"transc_max\", F.max(\"dias_aceptacion\").over(windowPaisSector))\\\n",
    "                                .withColumn(\"diff_dias\", F.col(\"dias_aceptacion\") - F.col(\"transc_medio\"))\n",
    "kivaExtraInfoDF.show()"
   ]
  },
  {
   "cell_type": "code",
   "execution_count": 209,
   "metadata": {},
   "outputs": [
    {
     "name": "stderr",
     "output_type": "stream",
     "text": [
      "                                                                                \r"
     ]
    },
    {
     "data": {
      "text/plain": [
       "Row(id='658540', funded_amount='1275.0', loan_amount=1275.0, activity='Clothing', sector='Clothing', use=\"to buy 15 lengths of pagnes [brightly colored fabric], 25 pairs of shoes, and 15 dozen children's outfits\", country_code='BF', country='Burkina Faso', region='SIGNOGHIN', currency='XOF', partner_id='187.0', posted_time=datetime.datetime(2014, 1, 17, 10, 7, 27), disbursed_time=datetime.datetime(2014, 1, 15, 8, 0), funded_time=datetime.datetime(2014, 2, 21, 16, 42, 49), term_in_months=8, lender_count='47', tags='user_favorite, #Fabrics, #Woman Owned Biz, #Supporting Family', borrower_genders='female, female, female', repayment_interval='monthly', date='2014-01-17', dias_desembolso=2, dias_aceptacion=35, transc_medio=11.003333333333334, transc_min=0, transc_max=35, diff_dias=23.996666666666666)"
      ]
     },
     "execution_count": 209,
     "metadata": {},
     "output_type": "execute_result"
    }
   ],
   "source": [
    "r = kivaExtraInfoDF.where(\"id = '658540'\").head()\n",
    "r"
   ]
  },
  {
   "cell_type": "code",
   "execution_count": 210,
   "metadata": {
    "deletable": false,
    "editable": false,
    "nbgrader": {
     "cell_type": "code",
     "checksum": "844f128aa6e789cd3660a00ab0159b56",
     "grade": true,
     "grade_id": "ventana_test",
     "locked": true,
     "points": 3,
     "schema_version": 3,
     "solution": false,
     "task": false
    }
   },
   "outputs": [
    {
     "name": "stderr",
     "output_type": "stream",
     "text": [
      "                                                                                \r"
     ]
    }
   ],
   "source": [
    "r = kivaExtraInfoDF.where(\"id = '658540'\").head()\n",
    "assert(r.country == 'Burkina Faso')\n",
    "assert(r.transc_medio - 11.02 < 0.05)\n",
    "assert(r.dias_aceptacion == 35)\n",
    "assert(r.diff_dias - 24.0 < 0.001)"
   ]
  }
 ],
 "metadata": {
  "kernelspec": {
   "display_name": "PySpark",
   "language": "python",
   "name": "pyspark"
  },
  "language_info": {
   "codemirror_mode": {
    "name": "ipython",
    "version": 3
   },
   "file_extension": ".py",
   "mimetype": "text/x-python",
   "name": "python",
   "nbconvert_exporter": "python",
   "pygments_lexer": "ipython3",
   "version": "3.8.15"
  }
 },
 "nbformat": 4,
 "nbformat_minor": 4
}